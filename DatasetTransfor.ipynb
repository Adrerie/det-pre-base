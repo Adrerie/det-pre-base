{
 "cells": [
  {
   "cell_type": "markdown",
   "id": "85d3dcd9",
   "metadata": {},
   "source": [
    "此处用于验证不同数据集（暂时保留）"
   ]
  }
 ],
 "metadata": {
  "language_info": {
   "name": "python"
  }
 },
 "nbformat": 4,
 "nbformat_minor": 5
}
